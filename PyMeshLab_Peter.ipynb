{
  "nbformat": 4,
  "nbformat_minor": 0,
  "metadata": {
    "colab": {
      "name": "PyMeshLab_Peter.ipynb",
      "provenance": [],
      "authorship_tag": "ABX9TyN6K456+Ry5EysOG6eYEChQ",
      "include_colab_link": true
    },
    "kernelspec": {
      "name": "python3",
      "display_name": "Python 3"
    },
    "language_info": {
      "name": "python"
    }
  },
  "cells": [
    {
      "cell_type": "markdown",
      "metadata": {
        "id": "view-in-github",
        "colab_type": "text"
      },
      "source": [
        "<a href=\"https://colab.research.google.com/github/theganteng/PyMeshLab_theganteng/blob/main/PyMeshLab_Peter.ipynb\" target=\"_parent\"><img src=\"https://colab.research.google.com/assets/colab-badge.svg\" alt=\"Open In Colab\"/></a>"
      ]
    },
    {
      "cell_type": "code",
      "execution_count": null,
      "metadata": {
        "colab": {
          "base_uri": "https://localhost:8080/"
        },
        "id": "06JKGwuG4OeX",
        "outputId": "22971d99-104c-4fd3-aa9f-e8aaae1c8e6a"
      },
      "outputs": [
        {
          "output_type": "stream",
          "name": "stdout",
          "text": [
            "Collecting pymeshlab\n",
            "  Downloading pymeshlab-2021.10-cp37-cp37m-manylinux1_x86_64.whl (56.4 MB)\n",
            "\u001b[K     |████████████████████████████████| 56.4 MB 20 kB/s \n",
            "\u001b[?25hRequirement already satisfied: numpy in /usr/local/lib/python3.7/dist-packages (from pymeshlab) (1.19.5)\n",
            "Installing collected packages: pymeshlab\n",
            "Successfully installed pymeshlab-2021.10\n"
          ]
        }
      ],
      "source": [
        "\n",
        "!pip3 install pymeshlab "
      ]
    },
    {
      "cell_type": "code",
      "source": [
        "import pymeshlab\n",
        "\n",
        "def example_load_mesh():\n",
        "  # lines needed to run this specific example\n",
        "  print('\\n')\n",
        "  from . import samples_common\n",
        "  base_path = samples_common.samples_absolute_path()\n",
        "\n",
        "  # create a new MeshSet\n",
        "  ms = pymeshlab.MeshSet()\n",
        "\n",
        "  # Load a new mesh in the MeshSet, and sets it as current\n",
        "  # the path of the mesh can be absolute or relative\n",
        "  ms.load_new_mesh(base_path + \"bone.ply\")\n",
        "\n",
        "  print(len(ms)) # now ms contains 1 mesh\n",
        "  # instead of len(ms) you can also use:\n",
        "  print(ms.number_meshes())"
      ],
      "metadata": {
        "id": "O7b7Ut4Z6WdT"
      },
      "execution_count": null,
      "outputs": []
    },
    {
      "cell_type": "code",
      "source": [
        "pytest --pyargs pymeshlab -k 'example_load_mesh'"
      ],
      "metadata": {
        "colab": {
          "base_uri": "https://localhost:8080/",
          "height": 130
        },
        "id": "aTM6yUPT7ZcK",
        "outputId": "34503bc9-053b-4d58-a228-b53a44a637ef"
      },
      "execution_count": null,
      "outputs": [
        {
          "output_type": "error",
          "ename": "SyntaxError",
          "evalue": "ignored",
          "traceback": [
            "\u001b[0;36m  File \u001b[0;32m\"<ipython-input-9-6d2e39857604>\"\u001b[0;36m, line \u001b[0;32m1\u001b[0m\n\u001b[0;31m    pytest --pyargs pymeshlab -k 'example_load_mesh'\u001b[0m\n\u001b[0m                            ^\u001b[0m\n\u001b[0;31mSyntaxError\u001b[0m\u001b[0;31m:\u001b[0m invalid syntax\n"
          ]
        }
      ]
    },
    {
      "cell_type": "code",
      "source": [
        "remeshing_isotropic_explicit_remeshing\n",
        "# it performs an explicit remehsing of a triangular mesh, \n",
        "# by repeatedly applying edge flip, collapse,  relax and refine operations\n",
        "# to regularize size and aspect ration of the triangular meshing\n",
        "# Parameters used: iterations, adaptive, selected only, "
      ],
      "metadata": {
        "id": "o-KeO-IgGvQJ"
      },
      "execution_count": null,
      "outputs": []
    }
  ]
}